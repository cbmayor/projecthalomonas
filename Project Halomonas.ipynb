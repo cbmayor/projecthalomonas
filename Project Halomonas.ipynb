{
 "cells": [
  {
   "cell_type": "markdown",
   "metadata": {},
   "source": [
    "**Master Thesis**\n",
    "\n",
    "**Analyzing the TCA cycle in *Halomonas elongata* through ensembles of dynamical models: Implications for Metabolic Engineering**\n",
    "\n",
    "**A brief summary:** The TCA cycle is a key pathway for both catabolism and anabolism in bacteria. In the case of H elongata, the TCA cycle acquires a third metabolic role as the starting point for the production of ectoine. this compatible solute  confers the ability to grow at high salt concentrations.  In this work, the technique of ensemble modeling will be used to compare alternative designs of the TCA cycle and the anaplerotic pathways in order to characterize the features that enable an efficient operation of this pathway and thus fullfil  its three physiological functions. The results be a valuable help to pinpoint targets for genetic manipulation towards the development of new strains for the industrial production of ectoine."
   ]
  },
  {
   "cell_type": "markdown",
   "metadata": {},
   "source": [
    "**Coding Prerequisites:**\n",
    "\n",
    "1) Python"
   ]
  },
  {
   "cell_type": "code",
   "execution_count": null,
   "metadata": {},
   "outputs": [],
   "source": []
  },
  {
   "cell_type": "code",
   "execution_count": null,
   "metadata": {},
   "outputs": [],
   "source": []
  },
  {
   "cell_type": "code",
   "execution_count": 2,
   "metadata": {},
   "outputs": [
    {
     "data": {
      "text/plain": [
       "10"
      ]
     },
     "execution_count": 2,
     "metadata": {},
     "output_type": "execute_result"
    }
   ],
   "source": [
    "5+5"
   ]
  },
  {
   "cell_type": "code",
   "execution_count": null,
   "metadata": {},
   "outputs": [],
   "source": []
  },
  {
   "cell_type": "code",
   "execution_count": null,
   "metadata": {},
   "outputs": [],
   "source": []
  }
 ],
 "metadata": {
  "kernelspec": {
   "display_name": "Python 3",
   "language": "python",
   "name": "python3"
  },
  "language_info": {
   "codemirror_mode": {
    "name": "ipython",
    "version": 3
   },
   "file_extension": ".py",
   "mimetype": "text/x-python",
   "name": "python",
   "nbconvert_exporter": "python",
   "pygments_lexer": "ipython3",
   "version": "3.7.6"
  }
 },
 "nbformat": 4,
 "nbformat_minor": 4
}
