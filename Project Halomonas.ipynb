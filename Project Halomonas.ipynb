{
 "cells": [
  {
   "cell_type": "markdown",
   "metadata": {},
   "source": [
    "**Master Thesis**\n",
    "\n",
    "**Analyzing the TCA cycle in *Halomonas elongata* through ensembles of dynamical models: Implications for Metabolic Engineering**\n",
    "\n",
    "**A brief summary:** The TCA cycle is a key pathway for both catabolism and anabolism in bacteria. In the case of H elongata, the TCA cycle acquires a third metabolic role as the starting point for the production of ectoine. this compatible solute  confers the ability to grow at high salt concentrations.  In this work, the technique of ensemble modeling will be used to compare alternative designs of the TCA cycle and the anaplerotic pathways in order to characterize the features that enable an efficient operation of this pathway and thus fullfil  its three physiological functions. The results be a valuable help to pinpoint targets for genetic manipulation towards the development of new strains for the industrial production of ectoine."
   ]
  },
  {
   "cell_type": "markdown",
   "metadata": {},
   "source": [
    "**Coding Stuff:**\n",
    "\n",
    "**1) Python**\n",
    "\n",
    "udemy / Python beginner's course --> https://bit.ly/2Vb3cga\n",
    "edx / Data Science focused course --> https://bit.ly/3aboVc8\n",
    "\n",
    "**2) Numpy:**\n",
    "\n",
    "Similar to MATLAB. Tutorial --> https://cs231n.github.io/python-numpy-tutorial/\n",
    "\n",
    "**3) Scipy:** \n",
    "\n",
    "A collection of mathematical functions and visualization power for Python --> https://docs.scipy.org/doc/scipy/reference/tutorial/\n",
    "\n",
    "**4) Pandas:**\n",
    "\n",
    "Data analysis and visualization\n",
    "Guide --> https://pandas.pydata.org/docs/user_guide/index.html\n",
    "Quick guide --> https://pandas.pydata.org/docs/getting_started/10min.html#minutes-to-pandas\n",
    "\n",
    "**5) Jupyter Notebook:**\n",
    "\n",
    "Setup --> done\n",
    "Link with Github (cbmayor) --> done\n"
   ]
  },
  {
   "cell_type": "markdown",
   "metadata": {},
   "source": [
    "**Publications:**\n",
    "\n",
    "Osmoregulation in the Halophilic Bacterium Halomonas elongata: A Case Study for Integrative Systems Biology (2017)\n",
    "\n",
    "https://www.ncbi.nlm.nih.gov/pmc/articles/PMC5231179/\n",
    "\n",
    "Revision and reannotation of the Halomonas elongata DSM 2581T genome (2017)\n",
    "\n",
    "https://onlinelibrary.wiley.com/doi/full/10.1002/mbo3.465\n",
    "\n",
    "Time Hierarchies and Model Reduction in Canonical Non-linear Models (2016)\n",
    "\n",
    "https://www.frontiersin.org/articles/10.3389/fgene.2016.00166/full\n",
    "\n",
    "Synthetic biology and regulatory networks: where metabolic systems biology meets control engineering (2016)\n",
    "\n",
    "https://royalsocietypublishing.org/doi/full/10.1098/rsif.2015.1046\n",
    "\n",
    "Steady-state global optimization of metabolic non-linear dynamic models through recasting into power-law canonical models (2011)\n",
    "\n",
    "https://royalsocietypublishing.org/doi/full/10.1098/rsif.2015.1046\n",
    "\n",
    "A blueprint of ectoine metabolism from the genome of the industrial producer Halomonas elongata DSM 2581 T. (2011)\n",
    "\n",
    "https://www.ncbi.nlm.nih.gov/pubmed/20849449\n",
    "\n",
    "Understanding biochemical design principles with ensembles of canonical non-linear models (2020)\n",
    "\n",
    "https://www.biorxiv.org/content/10.1101/2020.02.28.969170v1"
   ]
  },
  {
   "cell_type": "markdown",
   "metadata": {},
   "source": [
    "**Juypter Notebook Viewer** (to read .iplynb through github repository): https://nbviewer.jupyter.org/"
   ]
  },
  {
   "cell_type": "code",
   "execution_count": null,
   "metadata": {},
   "outputs": [],
   "source": []
  },
  {
   "cell_type": "code",
   "execution_count": 2,
   "metadata": {},
   "outputs": [
    {
     "data": {
      "text/plain": [
       "10"
      ]
     },
     "execution_count": 2,
     "metadata": {},
     "output_type": "execute_result"
    }
   ],
   "source": [
    "5+5"
   ]
  },
  {
   "cell_type": "code",
   "execution_count": null,
   "metadata": {},
   "outputs": [],
   "source": []
  },
  {
   "cell_type": "code",
   "execution_count": null,
   "metadata": {},
   "outputs": [],
   "source": []
  }
 ],
 "metadata": {
  "kernelspec": {
   "display_name": "Python 3",
   "language": "python",
   "name": "python3"
  },
  "language_info": {
   "codemirror_mode": {
    "name": "ipython",
    "version": 3
   },
   "file_extension": ".py",
   "mimetype": "text/x-python",
   "name": "python",
   "nbconvert_exporter": "python",
   "pygments_lexer": "ipython3",
   "version": "3.7.6"
  }
 },
 "nbformat": 4,
 "nbformat_minor": 4
}
